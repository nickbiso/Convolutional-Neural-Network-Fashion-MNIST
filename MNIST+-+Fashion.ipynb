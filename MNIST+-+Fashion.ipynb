{
 "cells": [
  {
   "cell_type": "markdown",
   "metadata": {},
   "source": [
    "# Convolutional Neural Network: Fashion-MNIST "
   ]
  },
  {
   "cell_type": "markdown",
   "metadata": {},
   "source": [
    "This is not the same as the regular MNIST dataset"
   ]
  },
  {
   "cell_type": "code",
   "execution_count": 3,
   "metadata": {
    "collapsed": true
   },
   "outputs": [],
   "source": [
    "import tensorflow as tf\n",
    "import matplotlib.pyplot as plt\n",
    "import numpy as np\n",
    "%matplotlib inline"
   ]
  },
  {
   "cell_type": "code",
   "execution_count": 4,
   "metadata": {
    "collapsed": true
   },
   "outputs": [],
   "source": [
    "import os\n",
    "os.chdir('C:\\\\Users\\\\nickj\\\\jupyter notebooks')"
   ]
  },
  {
   "cell_type": "code",
   "execution_count": 5,
   "metadata": {},
   "outputs": [
    {
     "name": "stdout",
     "output_type": "stream",
     "text": [
      "Extracting data/fashion\\train-images-idx3-ubyte.gz\n",
      "Extracting data/fashion\\train-labels-idx1-ubyte.gz\n",
      "Extracting data/fashion\\t10k-images-idx3-ubyte.gz\n",
      "Extracting data/fashion\\t10k-labels-idx1-ubyte.gz\n"
     ]
    }
   ],
   "source": [
    "from tensorflow.examples.tutorials.mnist import input_data\n",
    "data = input_data.read_data_sets('data/fashion',one_hot=True)"
   ]
  },
  {
   "cell_type": "markdown",
   "metadata": {},
   "source": [
    "## Labels"
   ]
  },
  {
   "cell_type": "markdown",
   "metadata": {},
   "source": [
    "| Label | Description | \n",
    "| :---: | :---: | \n",
    "|0|T-shirt/top|\n",
    "|1|Trouser|\n",
    "|2|Pullover|\n",
    "|3|Dress|\n",
    "|4|Coat|\n",
    "|5|Sandal|\n",
    "|6|Shirt|\n",
    "|7|Sneaker|\n",
    "|8|Bag|\n",
    "|9|Ankle boot|\n",
    "\n"
   ]
  },
  {
   "cell_type": "markdown",
   "metadata": {},
   "source": [
    "## Sample Images"
   ]
  },
  {
   "cell_type": "code",
   "execution_count": 6,
   "metadata": {
    "collapsed": true
   },
   "outputs": [],
   "source": [
    "train_labels_numeric = np.argmax(data.train.labels, axis=1)"
   ]
  },
  {
   "cell_type": "code",
   "execution_count": 7,
   "metadata": {
    "scrolled": true
   },
   "outputs": [
    {
     "data": {
      "image/png": "[encoded data removed]",
      "text/plain": [
       "<matplotlib.figure.Figure at 0x19c6f8e95c0>"
      ]
     },
     "metadata": {},
     "output_type": "display_data"
    }
   ],
   "source": [
    "fig, axes = plt.subplots(2, 5)\n",
    "\n",
    "for i, ax in enumerate(axes.flat):\n",
    "    index = tuple(train_labels_numeric).index(i)\n",
    "    ax.imshow(data.train.images[index].reshape(28,28),cmap='gist_gray')\n",
    "\n",
    "    xlabel = i\n",
    "    ax.set_xlabel(xlabel)\n",
    "    ax.set_xticks([])\n",
    "    ax.set_yticks([])\n",
    "\n",
    "plt.show()"
   ]
  },
  {
   "cell_type": "code",
   "execution_count": 8,
   "metadata": {
    "collapsed": true
   },
   "outputs": [],
   "source": [
    "def init_weights(shape):\n",
    "    init_random_dist = tf.truncated_normal(shape, stddev=0.1)\n",
    "    return tf.Variable(init_random_dist)"
   ]
  },
  {
   "cell_type": "code",
   "execution_count": 9,
   "metadata": {
    "collapsed": true
   },
   "outputs": [],
   "source": [
    "def init_bias(shape):\n",
    "    init_bias_vals = tf.constant(0.1, shape=shape)\n",
    "    return tf.Variable(init_bias_vals)"
   ]
  },
  {
   "cell_type": "code",
   "execution_count": 10,
   "metadata": {
    "collapsed": true
   },
   "outputs": [],
   "source": [
    "def conv2d(x, W):\n",
    "    return tf.nn.conv2d(x, W, strides=[1, 1, 1, 1], padding='SAME')"
   ]
  },
  {
   "cell_type": "code",
   "execution_count": 11,
   "metadata": {
    "collapsed": true
   },
   "outputs": [],
   "source": [
    "def max_pool_2by2(x):\n",
    "    return tf.nn.max_pool(x, ksize=[1, 2, 2, 1],\n",
    "                          strides=[1, 2, 2, 1], padding='SAME')"
   ]
  },
  {
   "cell_type": "code",
   "execution_count": 12,
   "metadata": {
    "collapsed": true
   },
   "outputs": [],
   "source": [
    "def convolutional_layer(input_x, shape):\n",
    "    W = init_weights(shape)\n",
    "    b = init_bias([shape[3]])\n",
    "    return tf.nn.relu(conv2d(input_x, W) + b)"
   ]
  },
  {
   "cell_type": "code",
   "execution_count": 13,
   "metadata": {
    "collapsed": true
   },
   "outputs": [],
   "source": [
    "def normal_full_layer(input_layer, size):\n",
    "    input_size = int(input_layer.get_shape()[1])\n",
    "    W = init_weights([input_size, size])\n",
    "    b = init_bias([size])\n",
    "    return tf.matmul(input_layer, W) + b"
   ]
  },
  {
   "cell_type": "markdown",
   "metadata": {},
   "source": [
    "### Placeholders"
   ]
  },
  {
   "cell_type": "code",
   "execution_count": 14,
   "metadata": {},
   "outputs": [
    {
     "data": {
      "text/plain": [
       "784"
      ]
     },
     "execution_count": 14,
     "metadata": {},
     "output_type": "execute_result"
    }
   ],
   "source": [
    "data.train.images.shape[1]"
   ]
  },
  {
   "cell_type": "code",
   "execution_count": 15,
   "metadata": {
    "collapsed": true
   },
   "outputs": [],
   "source": [
    "x = tf.placeholder(tf.float32,shape=[None,784])"
   ]
  },
  {
   "cell_type": "code",
   "execution_count": 16,
   "metadata": {
    "collapsed": true
   },
   "outputs": [],
   "source": [
    "y_true = tf.placeholder(tf.float32,shape=[None,10])"
   ]
  },
  {
   "cell_type": "markdown",
   "metadata": {},
   "source": [
    "### Layers"
   ]
  },
  {
   "cell_type": "code",
   "execution_count": 53,
   "metadata": {
    "collapsed": true
   },
   "outputs": [],
   "source": [
    "x_image = tf.reshape(x,[-1,28,28,1])"
   ]
  },
  {
   "cell_type": "code",
   "execution_count": 54,
   "metadata": {
    "collapsed": true
   },
   "outputs": [],
   "source": [
    "convo_1 = convolutional_layer(x_image,shape=[5,5,1,32])\n",
    "convo_1_pooling = max_pool_2by2(convo_1)"
   ]
  },
  {
   "cell_type": "code",
   "execution_count": 55,
   "metadata": {
    "collapsed": true
   },
   "outputs": [],
   "source": [
    "convo_2 = convolutional_layer(convo_1_pooling,shape=[5,5,32,64])\n",
    "convo_2_pooling = max_pool_2by2(convo_2)"
   ]
  },
  {
   "cell_type": "code",
   "execution_count": 56,
   "metadata": {
    "collapsed": true
   },
   "outputs": [],
   "source": [
    "convo_2_flat = tf.reshape(convo_2_pooling,[-1,7*7*64])\n",
    "full_layer_one = tf.nn.relu(normal_full_layer(convo_2_flat,1024))"
   ]
  },
  {
   "cell_type": "code",
   "execution_count": 57,
   "metadata": {
    "collapsed": true
   },
   "outputs": [],
   "source": [
    "full_layer_two = tf.nn.relu(normal_full_layer(full_layer_one,1024))"
   ]
  },
  {
   "cell_type": "markdown",
   "metadata": {},
   "source": [
    "### Dropout"
   ]
  },
  {
   "cell_type": "code",
   "execution_count": 58,
   "metadata": {
    "collapsed": true
   },
   "outputs": [],
   "source": [
    "hold_prob = tf.placeholder(tf.float32)\n",
    "full_one_dropout = tf.nn.dropout(full_layer_two,keep_prob=hold_prob)"
   ]
  },
  {
   "cell_type": "code",
   "execution_count": 59,
   "metadata": {
    "collapsed": true
   },
   "outputs": [],
   "source": [
    "y_pred = normal_full_layer(full_one_dropout,10)"
   ]
  },
  {
   "cell_type": "markdown",
   "metadata": {},
   "source": [
    "### Cost Function"
   ]
  },
  {
   "cell_type": "code",
   "execution_count": 60,
   "metadata": {
    "collapsed": true
   },
   "outputs": [],
   "source": [
    "cross_entropy = tf.reduce_mean(tf.nn.softmax_cross_entropy_with_logits(labels=y_true,logits=y_pred))"
   ]
  },
  {
   "cell_type": "code",
   "execution_count": 61,
   "metadata": {
    "collapsed": true
   },
   "outputs": [],
   "source": [
    "optimizer = tf.train.AdamOptimizer(learning_rate=0.0001)\n",
    "train = optimizer.minimize(cross_entropy)"
   ]
  },
  {
   "cell_type": "code",
   "execution_count": 62,
   "metadata": {
    "collapsed": true
   },
   "outputs": [],
   "source": [
    "init = tf.global_variables_initializer()"
   ]
  },
  {
   "cell_type": "code",
   "execution_count": 63,
   "metadata": {
    "scrolled": true
   },
   "outputs": [
    {
     "name": "stdout",
     "output_type": "stream",
     "text": [
      "Currently on step 0\n",
      "Train Accuracy is:0.119018\n",
      "Test Accuracy is:0.164\n",
      "\n",
      "\n",
      "Currently on step 100\n",
      "Train Accuracy is:0.744618\n",
      "Test Accuracy is:0.8063\n",
      "\n",
      "\n",
      "Currently on step 200\n",
      "Train Accuracy is:0.799109\n",
      "Test Accuracy is:0.8309\n",
      "\n",
      "\n",
      "Currently on step 300\n",
      "Train Accuracy is:0.825982\n",
      "Test Accuracy is:0.8471\n",
      "\n",
      "\n",
      "Currently on step 400\n",
      "Train Accuracy is:0.840945\n",
      "Test Accuracy is:0.8589\n",
      "\n",
      "\n",
      "Currently on step 500\n",
      "Train Accuracy is:0.848255\n",
      "Test Accuracy is:0.8651\n",
      "\n",
      "\n",
      "Currently on step 600\n",
      "Train Accuracy is:0.855509\n",
      "Test Accuracy is:0.8626\n",
      "\n",
      "\n",
      "Currently on step 700\n",
      "Train Accuracy is:0.865509\n",
      "Test Accuracy is:0.8694\n",
      "\n",
      "\n",
      "Currently on step 800\n",
      "Train Accuracy is:0.875073\n",
      "Test Accuracy is:0.8752\n",
      "\n",
      "\n",
      "Currently on step 900\n",
      "Train Accuracy is:0.877055\n",
      "Test Accuracy is:0.873\n",
      "\n",
      "\n",
      "Currently on step 1000\n",
      "Train Accuracy is:0.881127\n",
      "Test Accuracy is:0.8799\n",
      "\n",
      "\n",
      "Currently on step 1100\n",
      "Train Accuracy is:0.887164\n",
      "Test Accuracy is:0.8836\n",
      "\n",
      "\n",
      "Currently on step 1200\n",
      "Train Accuracy is:0.890455\n",
      "Test Accuracy is:0.8842\n",
      "\n",
      "\n",
      "Currently on step 1300\n",
      "Train Accuracy is:0.892836\n",
      "Test Accuracy is:0.8832\n",
      "\n",
      "\n",
      "Currently on step 1400\n",
      "Train Accuracy is:0.899764\n",
      "Test Accuracy is:0.8888\n",
      "\n",
      "\n",
      "Currently on step 1500\n",
      "Train Accuracy is:0.899345\n",
      "Test Accuracy is:0.8865\n",
      "\n",
      "\n",
      "Currently on step 1600\n",
      "Train Accuracy is:0.9032\n",
      "Test Accuracy is:0.8915\n",
      "\n",
      "\n",
      "Currently on step 1700\n",
      "Train Accuracy is:0.908673\n",
      "Test Accuracy is:0.8927\n",
      "\n",
      "\n",
      "Currently on step 1800\n",
      "Train Accuracy is:0.905545\n",
      "Test Accuracy is:0.8902\n",
      "\n",
      "\n",
      "Currently on step 1900\n",
      "Train Accuracy is:0.909855\n",
      "Test Accuracy is:0.8938\n",
      "\n",
      "\n",
      "Currently on step 2000\n",
      "Train Accuracy is:0.913909\n",
      "Test Accuracy is:0.8951\n",
      "\n",
      "\n",
      "Currently on step 2100\n",
      "Train Accuracy is:0.914582\n",
      "Test Accuracy is:0.895\n",
      "\n",
      "\n",
      "Currently on step 2200\n",
      "Train Accuracy is:0.915018\n",
      "Test Accuracy is:0.8965\n",
      "\n",
      "\n",
      "Currently on step 2300\n",
      "Train Accuracy is:0.920327\n",
      "Test Accuracy is:0.8991\n",
      "\n",
      "\n",
      "Currently on step 2400\n",
      "Train Accuracy is:0.922345\n",
      "Test Accuracy is:0.8992\n",
      "\n",
      "\n",
      "Currently on step 2500\n",
      "Train Accuracy is:0.924491\n",
      "Test Accuracy is:0.9006\n",
      "\n",
      "\n",
      "Currently on step 2600\n",
      "Train Accuracy is:0.927109\n",
      "Test Accuracy is:0.902\n",
      "\n",
      "\n",
      "Currently on step 2700\n",
      "Train Accuracy is:0.927855\n",
      "Test Accuracy is:0.9003\n",
      "\n",
      "\n",
      "Currently on step 2800\n",
      "Train Accuracy is:0.932036\n",
      "Test Accuracy is:0.9025\n",
      "\n",
      "\n",
      "Currently on step 2900\n",
      "Train Accuracy is:0.929273\n",
      "Test Accuracy is:0.8999\n",
      "\n",
      "\n",
      "Currently on step 3000\n",
      "Train Accuracy is:0.933382\n",
      "Test Accuracy is:0.9045\n",
      "\n",
      "\n",
      "Currently on step 3100\n",
      "Train Accuracy is:0.934182\n",
      "Test Accuracy is:0.9039\n",
      "\n",
      "\n",
      "Currently on step 3200\n",
      "Train Accuracy is:0.937509\n",
      "Test Accuracy is:0.9065\n",
      "\n",
      "\n",
      "Currently on step 3300\n",
      "Train Accuracy is:0.9388\n",
      "Test Accuracy is:0.903\n",
      "\n",
      "\n",
      "Currently on step 3400\n",
      "Train Accuracy is:0.939545\n",
      "Test Accuracy is:0.904\n",
      "\n",
      "\n",
      "Currently on step 3500\n",
      "Train Accuracy is:0.943527\n",
      "Test Accuracy is:0.9062\n",
      "\n",
      "\n",
      "Currently on step 3600\n",
      "Train Accuracy is:0.941655\n",
      "Test Accuracy is:0.9033\n",
      "\n",
      "\n",
      "Currently on step 3700\n",
      "Train Accuracy is:0.945236\n",
      "Test Accuracy is:0.9062\n",
      "\n",
      "\n",
      "Currently on step 3800\n",
      "Train Accuracy is:0.946182\n",
      "Test Accuracy is:0.9077\n",
      "\n",
      "\n",
      "Currently on step 3900\n",
      "Train Accuracy is:0.950527\n",
      "Test Accuracy is:0.9088\n",
      "\n",
      "\n",
      "Currently on step 4000\n",
      "Train Accuracy is:0.9506\n",
      "Test Accuracy is:0.9072\n",
      "\n",
      "\n",
      "Currently on step 4100\n",
      "Train Accuracy is:0.950127\n",
      "Test Accuracy is:0.9068\n",
      "\n",
      "\n",
      "Currently on step 4200\n",
      "Train Accuracy is:0.952564\n",
      "Test Accuracy is:0.9091\n",
      "\n",
      "\n",
      "Currently on step 4300\n",
      "Train Accuracy is:0.953745\n",
      "Test Accuracy is:0.9094\n",
      "\n",
      "\n",
      "Currently on step 4400\n",
      "Train Accuracy is:0.952491\n",
      "Test Accuracy is:0.9081\n",
      "\n",
      "\n",
      "Currently on step 4500\n",
      "Train Accuracy is:0.957891\n",
      "Test Accuracy is:0.9108\n",
      "\n",
      "\n",
      "Currently on step 4600\n",
      "Train Accuracy is:0.957891\n",
      "Test Accuracy is:0.9103\n",
      "\n",
      "\n",
      "Currently on step 4700\n",
      "Train Accuracy is:0.958782\n",
      "Test Accuracy is:0.9096\n",
      "\n",
      "\n",
      "Currently on step 4800\n",
      "Train Accuracy is:0.960491\n",
      "Test Accuracy is:0.9094\n",
      "\n",
      "\n",
      "Currently on step 4900\n",
      "Train Accuracy is:0.961545\n",
      "Test Accuracy is:0.9112\n",
      "\n",
      "\n",
      "Wall time: 1h 35min 36s\n"
     ]
    }
   ],
   "source": [
    "%%time\n",
    "steps = 5000\n",
    "\n",
    "with tf.Session() as sess:\n",
    "    \n",
    "    sess.run(init)\n",
    "    \n",
    "    for i in range(steps):\n",
    "        \n",
    "        batch_x , batch_y = data.train.next_batch(512)\n",
    "        sess.run(train,feed_dict={x:batch_x,y_true:batch_y,hold_prob:0.5})\n",
    "        \n",
    "        if i%100 == 0:\n",
    "            \n",
    "            print('Currently on step {}'.format(i))\n",
    "            \n",
    "            matches = tf.equal(tf.argmax(y_pred,1),tf.argmax(y_true,1))\n",
    "            acc = tf.reduce_mean(tf.cast(matches,tf.float32))\n",
    "            \n",
    "            print('Train Accuracy is:'+str(sess.run(acc,feed_dict={x:data.train.images,y_true:data.train.labels,hold_prob:.5})))           \n",
    "            print('Test Accuracy is:'+str(sess.run(acc,feed_dict={x:data.test.images,y_true:data.test.labels,hold_prob:1.0})))\n",
    "\n",
    "            print('\\n')"
   ]
  },
  {
   "cell_type": "markdown",
   "metadata": {},
   "source": [
    "## Our final accuracy is 91%, according to [this Github page](https://github.com/zalandoresearch/fashion-mnist) Human Performance is only 83.5%.  "
   ]
  }
 ],
 "metadata": {
  "kernelspec": {
   "display_name": "Python 3",
   "language": "python",
   "name": "python3"
  },
  "language_info": {
   "codemirror_mode": {
    "name": "ipython",
    "version": 3
   },
   "file_extension": ".py",
   "mimetype": "text/x-python",
   "name": "python",
   "nbconvert_exporter": "python",
   "pygments_lexer": "ipython3",
   "version": "3.6.1"
  }
 },
 "nbformat": 4,
 "nbformat_minor": 2
}
